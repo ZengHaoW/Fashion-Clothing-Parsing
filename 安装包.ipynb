{
 "cells": [
  {
   "cell_type": "code",
   "execution_count": 1,
   "id": "czech-decade",
   "metadata": {},
   "outputs": [
    {
     "name": "stdout",
     "output_type": "stream",
     "text": [
      "Requirement already satisfied: cython in c:\\users\\zx08x\\miniconda3\\envs\\py36\\lib\\site-packages (0.29.22)\n",
      "Note: you may need to restart the kernel to use updated packages.\n"
     ]
    }
   ],
   "source": [
    "pip install cython"
   ]
  },
  {
   "cell_type": "code",
   "execution_count": 3,
   "id": "worst-adaptation",
   "metadata": {},
   "outputs": [
    {
     "name": "stdout",
     "output_type": "stream",
     "text": [
      "Collecting git+https://github.com/lucasb-eyer/pydensecrf.git\n",
      "  Cloning https://github.com/lucasb-eyer/pydensecrf.git to c:\\users\\zx08x\\appdata\\local\\temp\\pip-req-build-q_ho_heu\n",
      "Building wheels for collected packages: pydensecrf\n",
      "  Building wheel for pydensecrf (setup.py): started\n",
      "  Building wheel for pydensecrf (setup.py): finished with status 'error'\n",
      "  Running setup.py clean for pydensecrf\n",
      "Failed to build pydensecrf\n",
      "Installing collected packages: pydensecrf\n",
      "    Running setup.py install for pydensecrf: started\n",
      "    Running setup.py install for pydensecrf: finished with status 'error'\n",
      "Note: you may need to restart the kernel to use updated packages.\n"
     ]
    },
    {
     "name": "stderr",
     "output_type": "stream",
     "text": [
      "  Running command git clone -q https://github.com/lucasb-eyer/pydensecrf.git 'C:\\Users\\zx08x\\AppData\\Local\\Temp\\pip-req-build-q_ho_heu'\n",
      "  ERROR: Command errored out with exit status 1:\n",
      "   command: 'C:\\Users\\zx08x\\miniconda3\\envs\\py36\\python.exe' -u -c 'import sys, setuptools, tokenize; sys.argv[0] = '\"'\"'C:\\\\Users\\\\zx08x\\\\AppData\\\\Local\\\\Temp\\\\pip-req-build-q_ho_heu\\\\setup.py'\"'\"'; __file__='\"'\"'C:\\\\Users\\\\zx08x\\\\AppData\\\\Local\\\\Temp\\\\pip-req-build-q_ho_heu\\\\setup.py'\"'\"';f=getattr(tokenize, '\"'\"'open'\"'\"', open)(__file__);code=f.read().replace('\"'\"'\\r\\n'\"'\"', '\"'\"'\\n'\"'\"');f.close();exec(compile(code, __file__, '\"'\"'exec'\"'\"'))' bdist_wheel -d 'C:\\Users\\zx08x\\AppData\\Local\\Temp\\pip-wheel-kjb8be_q'\n",
      "       cwd: C:\\Users\\zx08x\\AppData\\Local\\Temp\\pip-req-build-q_ho_heu\\\n",
      "  Complete output (11 lines):\n",
      "  running bdist_wheel\n",
      "  running build\n",
      "  running build_py\n",
      "  creating build\n",
      "  creating build\\lib.win-amd64-3.6\n",
      "  creating build\\lib.win-amd64-3.6\\pydensecrf\n",
      "  copying pydensecrf\\utils.py -> build\\lib.win-amd64-3.6\\pydensecrf\n",
      "  copying pydensecrf\\__init__.py -> build\\lib.win-amd64-3.6\\pydensecrf\n",
      "  running build_ext\n",
      "  building 'pydensecrf.eigen' extension\n",
      "  error: Microsoft Visual C++ 14.0 or greater is required. Get it with \"Microsoft C++ Build Tools\": https://visualstudio.microsoft.com/visual-cpp-build-tools/\n",
      "  ----------------------------------------\n",
      "  ERROR: Failed building wheel for pydensecrf\n",
      "    ERROR: Command errored out with exit status 1:\n",
      "     command: 'C:\\Users\\zx08x\\miniconda3\\envs\\py36\\python.exe' -u -c 'import sys, setuptools, tokenize; sys.argv[0] = '\"'\"'C:\\\\Users\\\\zx08x\\\\AppData\\\\Local\\\\Temp\\\\pip-req-build-q_ho_heu\\\\setup.py'\"'\"'; __file__='\"'\"'C:\\\\Users\\\\zx08x\\\\AppData\\\\Local\\\\Temp\\\\pip-req-build-q_ho_heu\\\\setup.py'\"'\"';f=getattr(tokenize, '\"'\"'open'\"'\"', open)(__file__);code=f.read().replace('\"'\"'\\r\\n'\"'\"', '\"'\"'\\n'\"'\"');f.close();exec(compile(code, __file__, '\"'\"'exec'\"'\"'))' install --record 'C:\\Users\\zx08x\\AppData\\Local\\Temp\\pip-record-1p8g4ft2\\install-record.txt' --single-version-externally-managed --compile --install-headers 'C:\\Users\\zx08x\\miniconda3\\envs\\py36\\Include\\pydensecrf'\n",
      "         cwd: C:\\Users\\zx08x\\AppData\\Local\\Temp\\pip-req-build-q_ho_heu\\\n",
      "    Complete output (11 lines):\n",
      "    running install\n",
      "    running build\n",
      "    running build_py\n",
      "    creating build\n",
      "    creating build\\lib.win-amd64-3.6\n",
      "    creating build\\lib.win-amd64-3.6\\pydensecrf\n",
      "    copying pydensecrf\\utils.py -> build\\lib.win-amd64-3.6\\pydensecrf\n",
      "    copying pydensecrf\\__init__.py -> build\\lib.win-amd64-3.6\\pydensecrf\n",
      "    running build_ext\n",
      "    building 'pydensecrf.eigen' extension\n",
      "    error: Microsoft Visual C++ 14.0 or greater is required. Get it with \"Microsoft C++ Build Tools\": https://visualstudio.microsoft.com/visual-cpp-build-tools/\n",
      "    ----------------------------------------\n",
      "ERROR: Command errored out with exit status 1: 'C:\\Users\\zx08x\\miniconda3\\envs\\py36\\python.exe' -u -c 'import sys, setuptools, tokenize; sys.argv[0] = '\"'\"'C:\\\\Users\\\\zx08x\\\\AppData\\\\Local\\\\Temp\\\\pip-req-build-q_ho_heu\\\\setup.py'\"'\"'; __file__='\"'\"'C:\\\\Users\\\\zx08x\\\\AppData\\\\Local\\\\Temp\\\\pip-req-build-q_ho_heu\\\\setup.py'\"'\"';f=getattr(tokenize, '\"'\"'open'\"'\"', open)(__file__);code=f.read().replace('\"'\"'\\r\\n'\"'\"', '\"'\"'\\n'\"'\"');f.close();exec(compile(code, __file__, '\"'\"'exec'\"'\"'))' install --record 'C:\\Users\\zx08x\\AppData\\Local\\Temp\\pip-record-1p8g4ft2\\install-record.txt' --single-version-externally-managed --compile --install-headers 'C:\\Users\\zx08x\\miniconda3\\envs\\py36\\Include\\pydensecrf' Check the logs for full command output.\n"
     ]
    }
   ],
   "source": [
    "pip install git+https://github.com/lucasb-eyer/pydensecrf.git"
   ]
  },
  {
   "cell_type": "code",
   "execution_count": 2,
   "id": "stuck-envelope",
   "metadata": {},
   "outputs": [
    {
     "name": "stdout",
     "output_type": "stream",
     "text": [
      "Collecting pydensecrf\n",
      "  Using cached pydensecrf-1.0rc3.tar.gz (1.0 MB)\n",
      "Building wheels for collected packages: pydensecrf\n",
      "  Building wheel for pydensecrf (setup.py): started\n",
      "  Building wheel for pydensecrf (setup.py): finished with status 'error'\n",
      "  Running setup.py clean for pydensecrf\n",
      "Failed to build pydensecrf\n",
      "Installing collected packages: pydensecrf\n",
      "    Running setup.py install for pydensecrf: started\n",
      "    Running setup.py install for pydensecrf: finished with status 'error'\n",
      "Note: you may need to restart the kernel to use updated packages.\n"
     ]
    },
    {
     "name": "stderr",
     "output_type": "stream",
     "text": [
      "  ERROR: Command errored out with exit status 1:\n",
      "   command: 'C:\\Users\\zx08x\\miniconda3\\envs\\py36\\python.exe' -u -c 'import sys, setuptools, tokenize; sys.argv[0] = '\"'\"'C:\\\\Users\\\\zx08x\\\\AppData\\\\Local\\\\Temp\\\\pip-install-0nf21vnp\\\\pydensecrf_32e193319f584117814b25fc80b21b81\\\\setup.py'\"'\"'; __file__='\"'\"'C:\\\\Users\\\\zx08x\\\\AppData\\\\Local\\\\Temp\\\\pip-install-0nf21vnp\\\\pydensecrf_32e193319f584117814b25fc80b21b81\\\\setup.py'\"'\"';f=getattr(tokenize, '\"'\"'open'\"'\"', open)(__file__);code=f.read().replace('\"'\"'\\r\\n'\"'\"', '\"'\"'\\n'\"'\"');f.close();exec(compile(code, __file__, '\"'\"'exec'\"'\"'))' bdist_wheel -d 'C:\\Users\\zx08x\\AppData\\Local\\Temp\\pip-wheel-fnwrg96t'\n",
      "       cwd: C:\\Users\\zx08x\\AppData\\Local\\Temp\\pip-install-0nf21vnp\\pydensecrf_32e193319f584117814b25fc80b21b81\\\n",
      "  Complete output (11 lines):\n",
      "  running bdist_wheel\n",
      "  running build\n",
      "  running build_py\n",
      "  creating build\n",
      "  creating build\\lib.win-amd64-3.6\n",
      "  creating build\\lib.win-amd64-3.6\\pydensecrf\n",
      "  copying pydensecrf\\utils.py -> build\\lib.win-amd64-3.6\\pydensecrf\n",
      "  copying pydensecrf\\__init__.py -> build\\lib.win-amd64-3.6\\pydensecrf\n",
      "  running build_ext\n",
      "  building 'pydensecrf.eigen' extension\n",
      "  error: Microsoft Visual C++ 14.0 or greater is required. Get it with \"Microsoft C++ Build Tools\": https://visualstudio.microsoft.com/visual-cpp-build-tools/\n",
      "  ----------------------------------------\n",
      "  ERROR: Failed building wheel for pydensecrf\n",
      "    ERROR: Command errored out with exit status 1:\n",
      "     command: 'C:\\Users\\zx08x\\miniconda3\\envs\\py36\\python.exe' -u -c 'import sys, setuptools, tokenize; sys.argv[0] = '\"'\"'C:\\\\Users\\\\zx08x\\\\AppData\\\\Local\\\\Temp\\\\pip-install-0nf21vnp\\\\pydensecrf_32e193319f584117814b25fc80b21b81\\\\setup.py'\"'\"'; __file__='\"'\"'C:\\\\Users\\\\zx08x\\\\AppData\\\\Local\\\\Temp\\\\pip-install-0nf21vnp\\\\pydensecrf_32e193319f584117814b25fc80b21b81\\\\setup.py'\"'\"';f=getattr(tokenize, '\"'\"'open'\"'\"', open)(__file__);code=f.read().replace('\"'\"'\\r\\n'\"'\"', '\"'\"'\\n'\"'\"');f.close();exec(compile(code, __file__, '\"'\"'exec'\"'\"'))' install --record 'C:\\Users\\zx08x\\AppData\\Local\\Temp\\pip-record-4tqnu9o3\\install-record.txt' --single-version-externally-managed --compile --install-headers 'C:\\Users\\zx08x\\miniconda3\\envs\\py36\\Include\\pydensecrf'\n",
      "         cwd: C:\\Users\\zx08x\\AppData\\Local\\Temp\\pip-install-0nf21vnp\\pydensecrf_32e193319f584117814b25fc80b21b81\\\n",
      "    Complete output (11 lines):\n",
      "    running install\n",
      "    running build\n",
      "    running build_py\n",
      "    creating build\n",
      "    creating build\\lib.win-amd64-3.6\n",
      "    creating build\\lib.win-amd64-3.6\\pydensecrf\n",
      "    copying pydensecrf\\utils.py -> build\\lib.win-amd64-3.6\\pydensecrf\n",
      "    copying pydensecrf\\__init__.py -> build\\lib.win-amd64-3.6\\pydensecrf\n",
      "    running build_ext\n",
      "    building 'pydensecrf.eigen' extension\n",
      "    error: Microsoft Visual C++ 14.0 or greater is required. Get it with \"Microsoft C++ Build Tools\": https://visualstudio.microsoft.com/visual-cpp-build-tools/\n",
      "    ----------------------------------------\n",
      "ERROR: Command errored out with exit status 1: 'C:\\Users\\zx08x\\miniconda3\\envs\\py36\\python.exe' -u -c 'import sys, setuptools, tokenize; sys.argv[0] = '\"'\"'C:\\\\Users\\\\zx08x\\\\AppData\\\\Local\\\\Temp\\\\pip-install-0nf21vnp\\\\pydensecrf_32e193319f584117814b25fc80b21b81\\\\setup.py'\"'\"'; __file__='\"'\"'C:\\\\Users\\\\zx08x\\\\AppData\\\\Local\\\\Temp\\\\pip-install-0nf21vnp\\\\pydensecrf_32e193319f584117814b25fc80b21b81\\\\setup.py'\"'\"';f=getattr(tokenize, '\"'\"'open'\"'\"', open)(__file__);code=f.read().replace('\"'\"'\\r\\n'\"'\"', '\"'\"'\\n'\"'\"');f.close();exec(compile(code, __file__, '\"'\"'exec'\"'\"'))' install --record 'C:\\Users\\zx08x\\AppData\\Local\\Temp\\pip-record-4tqnu9o3\\install-record.txt' --single-version-externally-managed --compile --install-headers 'C:\\Users\\zx08x\\miniconda3\\envs\\py36\\Include\\pydensecrf' Check the logs for full command output.\n"
     ]
    }
   ],
   "source": [
    "pip install pydensecrf"
   ]
  },
  {
   "cell_type": "code",
   "execution_count": 1,
   "id": "drawn-field",
   "metadata": {},
   "outputs": [
    {
     "output_type": "stream",
     "name": "stdout",
     "text": [
      "^C\n",
      "Note: you may need to restart the kernel to use updated packages.\n"
     ]
    }
   ],
   "source": [
    "pip install -r requirements.txt"
   ]
  },
  {
   "cell_type": "code",
   "execution_count": 1,
   "id": "contemporary-roberts",
   "metadata": {},
   "outputs": [
    {
     "output_type": "stream",
     "name": "stdout",
     "text": [
      "Package                Version\n---------------------- -------------------\nabsl-py                0.11.0\naiohttp                3.7.4\nargon2-cffi            20.1.0\nastor                  0.8.1\nasync-generator        1.10\nasync-timeout          3.0.1\nattrs                  20.3.0\nbackcall               0.2.0\nbleach                 3.3.0\nblinker                1.4\nbrotlipy               0.7.0\ncachetools             4.2.1\ncertifi                2020.12.5\ncffi                   1.14.5\nchardet                3.0.4\nclick                  7.1.2\ncolorama               0.4.4\ncoverage               5.5\ncryptography           3.3.1\nCython                 0.29.22\ndecorator              4.4.2\ndefusedxml             0.7.0\nentrypoints            0.3\ngast                   0.2.2\ngoogle-auth            1.27.1\ngoogle-auth-oauthlib   0.4.3\ngoogle-pasta           0.2.0\ngrpcio                 1.36.1\nh5py                   2.10.0\nidna                   2.10\nidna-ssl               1.1.0\nimportlib-metadata     2.0.0\nipykernel              5.5.0\nipython                7.16.1\nipython-genutils       0.2.0\nipywidgets             7.6.3\njedi                   0.18.0\nJinja2                 2.11.3\njsonschema             3.2.0\njupyter                1.0.0\njupyter-client         6.1.11\njupyter-console        6.2.0\njupyter-core           4.7.1\njupyterlab-pygments    0.1.2\njupyterlab-widgets     1.0.0\nKeras                  2.3.1\nKeras-Applications     1.0.8\nKeras-Preprocessing    1.1.2\nMarkdown               3.3.4\nMarkupSafe             1.1.1\nmistune                0.8.4\nmkl-fft                1.3.0\nmkl-random             1.1.1\nmkl-service            2.3.0\nmultidict              5.1.0\nnbclient               0.5.3\nnbconvert              6.0.7\nnbformat               5.1.2\nnest-asyncio           1.5.1\nnotebook               6.2.0\nnumpy                  1.19.2\noauthlib               3.1.0\nopt-einsum             3.1.0\npackaging              20.9\npandocfilters          1.4.3\nparso                  0.8.1\npickleshare            0.7.5\npip                    21.0.1\nprometheus-client      0.9.0\nprompt-toolkit         3.0.16\nprotobuf               3.14.0\npyasn1                 0.4.8\npyasn1-modules         0.2.8\npycparser              2.20\npydensecrf             1.0rc2\nPygments               2.8.1\nPyJWT                  1.7.1\npyOpenSSL              20.0.1\npyparsing              2.4.7\npyreadline             2.1\npyrsistent             0.17.3\nPySocks                1.7.1\npython-dateutil        2.8.1\npywin32                300\npywinpty               0.5.7\nPyYAML                 5.4.1\npyzmq                  22.0.3\nqtconsole              5.0.2\nQtPy                   1.9.0\nrequests               2.25.1\nrequests-oauthlib      1.3.0\nrsa                    4.7.2\nscipy                  1.5.2\nSend2Trash             1.5.0\nsetuptools             52.0.0.post20210125\nsix                    1.15.0\ntensorboard            2.4.0\ntensorboard-plugin-wit 1.6.0\ntensorflow             1.15.0\ntensorflow-estimator   1.15.1\ntermcolor              1.1.0\nterminado              0.9.2\ntestpath               0.4.4\ntornado                6.1\ntraitlets              4.3.3\ntyping-extensions      3.7.4.3\nurllib3                1.26.3\nwcwidth                0.2.5\nwebencodings           0.5.1\nWerkzeug               0.16.1\nwheel                  0.36.2\nwidgetsnbextension     3.5.1\nwin-inet-pton          1.1.0\nwincertstore           0.2\nwrapt                  1.12.1\nyarl                   1.6.3\nzipp                   3.4.0\nNote: you may need to restart the kernel to use updated packages.\n"
     ]
    }
   ],
   "source": [
    "pip list"
   ]
  },
  {
   "cell_type": "code",
   "execution_count": null,
   "metadata": {},
   "outputs": [],
   "source": []
  }
 ],
 "metadata": {
  "kernelspec": {
   "name": "python3",
   "display_name": "Python 3.6.12 64-bit ('py36': conda)",
   "metadata": {
    "interpreter": {
     "hash": "25409508be5c6b153d24e74d01c2e10f671c18f04d42b6b9c549bcce7ebee255"
    }
   }
  },
  "language_info": {
   "codemirror_mode": {
    "name": "ipython",
    "version": 3
   },
   "file_extension": ".py",
   "mimetype": "text/x-python",
   "name": "python",
   "nbconvert_exporter": "python",
   "pygments_lexer": "ipython3",
   "version": "3.6.12-final"
  }
 },
 "nbformat": 4,
 "nbformat_minor": 5
}