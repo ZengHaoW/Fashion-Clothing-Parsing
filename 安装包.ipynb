{
 "cells": [
  {
   "cell_type": "code",
   "execution_count": 1,
   "metadata": {},
   "outputs": [
    {
     "name": "stdout",
     "output_type": "stream",
     "text": [
      "Requirement already satisfied: cython in c:\\users\\zx08x\\miniconda3\\envs\\py36\\lib\\site-packages (0.29.22)\n",
      "Note: you may need to restart the kernel to use updated packages.\n"
     ]
    }
   ],
   "source": [
    "pip install cython"
   ]
  },
  {
   "cell_type": "code",
   "execution_count": 3,
   "metadata": {},
   "outputs": [
    {
     "name": "stdout",
     "output_type": "stream",
     "text": [
      "Collecting git+https://github.com/lucasb-eyer/pydensecrf.git\n",
      "  Cloning https://github.com/lucasb-eyer/pydensecrf.git to c:\\users\\zx08x\\appdata\\local\\temp\\pip-req-build-q_ho_heu\n",
      "Building wheels for collected packages: pydensecrf\n",
      "  Building wheel for pydensecrf (setup.py): started\n",
      "  Building wheel for pydensecrf (setup.py): finished with status 'error'\n",
      "  Running setup.py clean for pydensecrf\n",
      "Failed to build pydensecrf\n",
      "Installing collected packages: pydensecrf\n",
      "    Running setup.py install for pydensecrf: started\n",
      "    Running setup.py install for pydensecrf: finished with status 'error'\n",
      "Note: you may need to restart the kernel to use updated packages.\n"
     ]
    },
    {
     "name": "stderr",
     "output_type": "stream",
     "text": [
      "  Running command git clone -q https://github.com/lucasb-eyer/pydensecrf.git 'C:\\Users\\zx08x\\AppData\\Local\\Temp\\pip-req-build-q_ho_heu'\n",
      "  ERROR: Command errored out with exit status 1:\n",
      "   command: 'C:\\Users\\zx08x\\miniconda3\\envs\\py36\\python.exe' -u -c 'import sys, setuptools, tokenize; sys.argv[0] = '\"'\"'C:\\\\Users\\\\zx08x\\\\AppData\\\\Local\\\\Temp\\\\pip-req-build-q_ho_heu\\\\setup.py'\"'\"'; __file__='\"'\"'C:\\\\Users\\\\zx08x\\\\AppData\\\\Local\\\\Temp\\\\pip-req-build-q_ho_heu\\\\setup.py'\"'\"';f=getattr(tokenize, '\"'\"'open'\"'\"', open)(__file__);code=f.read().replace('\"'\"'\\r\\n'\"'\"', '\"'\"'\\n'\"'\"');f.close();exec(compile(code, __file__, '\"'\"'exec'\"'\"'))' bdist_wheel -d 'C:\\Users\\zx08x\\AppData\\Local\\Temp\\pip-wheel-kjb8be_q'\n",
      "       cwd: C:\\Users\\zx08x\\AppData\\Local\\Temp\\pip-req-build-q_ho_heu\\\n",
      "  Complete output (11 lines):\n",
      "  running bdist_wheel\n",
      "  running build\n",
      "  running build_py\n",
      "  creating build\n",
      "  creating build\\lib.win-amd64-3.6\n",
      "  creating build\\lib.win-amd64-3.6\\pydensecrf\n",
      "  copying pydensecrf\\utils.py -> build\\lib.win-amd64-3.6\\pydensecrf\n",
      "  copying pydensecrf\\__init__.py -> build\\lib.win-amd64-3.6\\pydensecrf\n",
      "  running build_ext\n",
      "  building 'pydensecrf.eigen' extension\n",
      "  error: Microsoft Visual C++ 14.0 or greater is required. Get it with \"Microsoft C++ Build Tools\": https://visualstudio.microsoft.com/visual-cpp-build-tools/\n",
      "  ----------------------------------------\n",
      "  ERROR: Failed building wheel for pydensecrf\n",
      "    ERROR: Command errored out with exit status 1:\n",
      "     command: 'C:\\Users\\zx08x\\miniconda3\\envs\\py36\\python.exe' -u -c 'import sys, setuptools, tokenize; sys.argv[0] = '\"'\"'C:\\\\Users\\\\zx08x\\\\AppData\\\\Local\\\\Temp\\\\pip-req-build-q_ho_heu\\\\setup.py'\"'\"'; __file__='\"'\"'C:\\\\Users\\\\zx08x\\\\AppData\\\\Local\\\\Temp\\\\pip-req-build-q_ho_heu\\\\setup.py'\"'\"';f=getattr(tokenize, '\"'\"'open'\"'\"', open)(__file__);code=f.read().replace('\"'\"'\\r\\n'\"'\"', '\"'\"'\\n'\"'\"');f.close();exec(compile(code, __file__, '\"'\"'exec'\"'\"'))' install --record 'C:\\Users\\zx08x\\AppData\\Local\\Temp\\pip-record-1p8g4ft2\\install-record.txt' --single-version-externally-managed --compile --install-headers 'C:\\Users\\zx08x\\miniconda3\\envs\\py36\\Include\\pydensecrf'\n",
      "         cwd: C:\\Users\\zx08x\\AppData\\Local\\Temp\\pip-req-build-q_ho_heu\\\n",
      "    Complete output (11 lines):\n",
      "    running install\n",
      "    running build\n",
      "    running build_py\n",
      "    creating build\n",
      "    creating build\\lib.win-amd64-3.6\n",
      "    creating build\\lib.win-amd64-3.6\\pydensecrf\n",
      "    copying pydensecrf\\utils.py -> build\\lib.win-amd64-3.6\\pydensecrf\n",
      "    copying pydensecrf\\__init__.py -> build\\lib.win-amd64-3.6\\pydensecrf\n",
      "    running build_ext\n",
      "    building 'pydensecrf.eigen' extension\n",
      "    error: Microsoft Visual C++ 14.0 or greater is required. Get it with \"Microsoft C++ Build Tools\": https://visualstudio.microsoft.com/visual-cpp-build-tools/\n",
      "    ----------------------------------------\n",
      "ERROR: Command errored out with exit status 1: 'C:\\Users\\zx08x\\miniconda3\\envs\\py36\\python.exe' -u -c 'import sys, setuptools, tokenize; sys.argv[0] = '\"'\"'C:\\\\Users\\\\zx08x\\\\AppData\\\\Local\\\\Temp\\\\pip-req-build-q_ho_heu\\\\setup.py'\"'\"'; __file__='\"'\"'C:\\\\Users\\\\zx08x\\\\AppData\\\\Local\\\\Temp\\\\pip-req-build-q_ho_heu\\\\setup.py'\"'\"';f=getattr(tokenize, '\"'\"'open'\"'\"', open)(__file__);code=f.read().replace('\"'\"'\\r\\n'\"'\"', '\"'\"'\\n'\"'\"');f.close();exec(compile(code, __file__, '\"'\"'exec'\"'\"'))' install --record 'C:\\Users\\zx08x\\AppData\\Local\\Temp\\pip-record-1p8g4ft2\\install-record.txt' --single-version-externally-managed --compile --install-headers 'C:\\Users\\zx08x\\miniconda3\\envs\\py36\\Include\\pydensecrf' Check the logs for full command output.\n"
     ]
    }
   ],
   "source": [
    "pip install git+https://github.com/lucasb-eyer/pydensecrf.git"
   ]
  },
  {
   "cell_type": "code",
   "execution_count": 1,
   "metadata": {},
   "outputs": [
    {
     "name": "stdout",
     "output_type": "stream",
     "text": [
      "Defaulting to user installation because normal site-packages is not writeable\n",
      "Looking in indexes: https://mirrors.aliyun.com/pypi/simple/\n",
      "Collecting pydensecrf\n",
      "  Downloading https://mirrors.aliyun.com/pypi/packages/31/5a/1c2ab48e8019d282c128bc5c621332267bb954d32eecdda3ba57306b1551/pydensecrf-1.0rc3.tar.gz (1.0 MB)\n",
      "\u001b[K     |████████████████████████████████| 1.0 MB 7.2 MB/s eta 0:00:01\n",
      "\u001b[?25hBuilding wheels for collected packages: pydensecrf\n",
      "  Building wheel for pydensecrf (setup.py) ... \u001b[?25ldone\n",
      "\u001b[?25h  Created wheel for pydensecrf: filename=pydensecrf-1.0rc3-cp36-cp36m-linux_x86_64.whl size=2153650 sha256=33be48258c89927ab4637c3191f198b553a140880fbcbd3d609dc836a1cdbf23\n",
      "  Stored in directory: /home/mist/.cache/pip/wheels/9e/b3/62/3ccc228b6c9fe307c795d14f805619e73643c44ae499f71df3\n",
      "Successfully built pydensecrf\n",
      "Installing collected packages: pydensecrf\n",
      "Successfully installed pydensecrf-1.0rc3\n",
      "\u001b[33mWARNING: You are using pip version 20.2.2; however, version 21.0.1 is available.\n",
      "You should consider upgrading via the '/usr/bin/python3.6 -m pip install --upgrade pip' command.\u001b[0m\n",
      "Note: you may need to restart the kernel to use updated packages.\n"
     ]
    }
   ],
   "source": [
    "pip install pydensecrf"
   ]
  },
  {
   "cell_type": "code",
   "execution_count": 2,
   "metadata": {},
   "outputs": [
    {
     "name": "stdout",
     "output_type": "stream",
     "text": [
      "Defaulting to user installation because normal site-packages is not writeable\n",
      "Looking in indexes: https://mirrors.aliyun.com/pypi/simple/\n",
      "Requirement already satisfied: pillow in /usr/local/lib/python3.6/dist-packages (from -r requirements.txt (line 2)) (7.2.0)\n",
      "Requirement already satisfied: tqdm in /usr/local/lib/python3.6/dist-packages (from -r requirements.txt (line 3)) (4.48.2)\n",
      "Requirement already satisfied: h5py in /home/mist/.local/lib/python3.6/site-packages (from -r requirements.txt (line 4)) (2.10.0)\n",
      "Requirement already satisfied: pandas in /usr/local/lib/python3.6/dist-packages (from -r requirements.txt (line 5)) (1.1.0)\n",
      "Requirement already satisfied: matplotlib in /usr/local/lib/python3.6/dist-packages (from -r requirements.txt (line 6)) (3.3.0)\n",
      "Collecting opencv-python\n",
      "  Downloading https://mirrors.aliyun.com/pypi/packages/e0/20/4d78eb1ce337efd609ade8ebe0c82260cd47dd73f8c57dcfe4814c6a3b59/opencv_python-4.5.1.48-cp36-cp36m-manylinux2014_x86_64.whl (50.4 MB)\n",
      "\u001b[K     |████████████████████████████████| 50.4 MB 59 kB/s  eta 0:00:012\n",
      "\u001b[?25hCollecting sklearn\n",
      "  Downloading https://mirrors.aliyun.com/pypi/packages/1e/7a/dbb3be0ce9bd5c8b7e3d87328e79063f8b263b2b1bfa4774cb1147bfcd3f/sklearn-0.0.tar.gz (1.1 kB)\n",
      "Requirement already satisfied: scikit-image in /usr/local/lib/python3.6/dist-packages (from -r requirements.txt (line 10)) (0.17.2)\n",
      "Collecting numpy==1.16\n",
      "  Downloading https://mirrors.aliyun.com/pypi/packages/7b/74/54c5f9bb9bd4dae27a61ec1b39076a39d359b3fb7ba15da79ef23858a9d8/numpy-1.16.0-cp36-cp36m-manylinux1_x86_64.whl (17.3 MB)\n",
      "\u001b[K     |████████████████████████████████| 17.3 MB 17 kB/s  eta 0:00:01\n",
      "\u001b[?25hCollecting scipy==1.1.0\n",
      "  Downloading https://mirrors.aliyun.com/pypi/packages/a8/0b/f163da98d3a01b3e0ef1cab8dd2123c34aee2bafbb1c5bffa354cc8a1730/scipy-1.1.0-cp36-cp36m-manylinux1_x86_64.whl (31.2 MB)\n",
      "\u001b[K     |████████████████████████████████| 31.2 MB 53 kB/s s eta 0:00:01\n",
      "\u001b[?25hRequirement already satisfied: six in /usr/local/lib/python3.6/dist-packages (from h5py->-r requirements.txt (line 4)) (1.15.0)\n",
      "Requirement already satisfied: pytz>=2017.2 in /usr/local/lib/python3.6/dist-packages (from pandas->-r requirements.txt (line 5)) (2020.1)\n",
      "Requirement already satisfied: python-dateutil>=2.7.3 in /usr/local/lib/python3.6/dist-packages (from pandas->-r requirements.txt (line 5)) (2.8.1)\n",
      "Requirement already satisfied: pyparsing!=2.0.4,!=2.1.2,!=2.1.6,>=2.0.3 in /usr/local/lib/python3.6/dist-packages (from matplotlib->-r requirements.txt (line 6)) (2.4.7)\n",
      "Requirement already satisfied: kiwisolver>=1.0.1 in /usr/local/lib/python3.6/dist-packages (from matplotlib->-r requirements.txt (line 6)) (1.2.0)\n",
      "Requirement already satisfied: cycler>=0.10 in /usr/local/lib/python3.6/dist-packages (from matplotlib->-r requirements.txt (line 6)) (0.10.0)\n",
      "Requirement already satisfied: scikit-learn in /usr/local/lib/python3.6/dist-packages (from sklearn->-r requirements.txt (line 9)) (0.23.2)\n",
      "Requirement already satisfied: PyWavelets>=1.1.1 in /usr/local/lib/python3.6/dist-packages (from scikit-image->-r requirements.txt (line 10)) (1.1.1)\n",
      "Requirement already satisfied: tifffile>=2019.7.26 in /usr/local/lib/python3.6/dist-packages (from scikit-image->-r requirements.txt (line 10)) (2020.7.24)\n",
      "Requirement already satisfied: networkx>=2.0 in /usr/local/lib/python3.6/dist-packages (from scikit-image->-r requirements.txt (line 10)) (2.4)\n",
      "Requirement already satisfied: imageio>=2.3.0 in /usr/local/lib/python3.6/dist-packages (from scikit-image->-r requirements.txt (line 10)) (2.9.0)\n",
      "Requirement already satisfied: threadpoolctl>=2.0.0 in /usr/local/lib/python3.6/dist-packages (from scikit-learn->sklearn->-r requirements.txt (line 9)) (2.1.0)\n",
      "Requirement already satisfied: joblib>=0.11 in /usr/local/lib/python3.6/dist-packages (from scikit-learn->sklearn->-r requirements.txt (line 9)) (0.16.0)\n",
      "Requirement already satisfied: decorator>=4.3.0 in /usr/local/lib/python3.6/dist-packages (from networkx>=2.0->scikit-image->-r requirements.txt (line 10)) (4.4.2)\n",
      "Building wheels for collected packages: sklearn\n",
      "  Building wheel for sklearn (setup.py) ... \u001b[?25ldone\n",
      "\u001b[?25h  Created wheel for sklearn: filename=sklearn-0.0-py2.py3-none-any.whl size=1316 sha256=e58b94b8580153476025594587242585124ae3c7c54e6d8a767e29dd99daaa06\n",
      "  Stored in directory: /home/mist/.cache/pip/wheels/ce/5b/2e/ef24ffba0ac54979b5ac49aa658c37a0cc174ca498fedd928c\n",
      "Successfully built sklearn\n",
      "Installing collected packages: numpy, opencv-python, sklearn, scipy\n",
      "\u001b[33m  WARNING: The scripts f2py, f2py3 and f2py3.6 are installed in '/home/mist/.local/bin' which is not on PATH.\n",
      "  Consider adding this directory to PATH or, if you prefer to suppress this warning, use --no-warn-script-location.\u001b[0m\n",
      "Successfully installed numpy-1.16.0 opencv-python-4.5.1.48 scipy-1.1.0 sklearn-0.0\n",
      "\u001b[33mWARNING: You are using pip version 20.2.2; however, version 21.0.1 is available.\n",
      "You should consider upgrading via the '/usr/bin/python3.6 -m pip install --upgrade pip' command.\u001b[0m\n",
      "Note: you may need to restart the kernel to use updated packages.\n"
     ]
    }
   ],
   "source": [
    "pip install -r requirements.txt"
   ]
  },
  {
   "cell_type": "code",
   "execution_count": 1,
   "metadata": {},
   "outputs": [
    {
     "name": "stdout",
     "output_type": "stream",
     "text": [
      "Package                Version\n",
      "---------------------- -------------------\n",
      "absl-py                0.11.0\n",
      "aiohttp                3.7.4\n",
      "argon2-cffi            20.1.0\n",
      "astor                  0.8.1\n",
      "async-generator        1.10\n",
      "async-timeout          3.0.1\n",
      "attrs                  20.3.0\n",
      "backcall               0.2.0\n",
      "bleach                 3.3.0\n",
      "blinker                1.4\n",
      "brotlipy               0.7.0\n",
      "cachetools             4.2.1\n",
      "certifi                2020.12.5\n",
      "cffi                   1.14.5\n",
      "chardet                3.0.4\n",
      "click                  7.1.2\n",
      "colorama               0.4.4\n",
      "coverage               5.5\n",
      "cryptography           3.3.1\n",
      "Cython                 0.29.22\n",
      "decorator              4.4.2\n",
      "defusedxml             0.7.0\n",
      "entrypoints            0.3\n",
      "gast                   0.2.2\n",
      "google-auth            1.27.1\n",
      "google-auth-oauthlib   0.4.3\n",
      "google-pasta           0.2.0\n",
      "grpcio                 1.36.1\n",
      "h5py                   2.10.0\n",
      "idna                   2.10\n",
      "idna-ssl               1.1.0\n",
      "importlib-metadata     2.0.0\n",
      "ipykernel              5.5.0\n",
      "ipython                7.16.1\n",
      "ipython-genutils       0.2.0\n",
      "ipywidgets             7.6.3\n",
      "jedi                   0.18.0\n",
      "Jinja2                 2.11.3\n",
      "jsonschema             3.2.0\n",
      "jupyter                1.0.0\n",
      "jupyter-client         6.1.11\n",
      "jupyter-console        6.2.0\n",
      "jupyter-core           4.7.1\n",
      "jupyterlab-pygments    0.1.2\n",
      "jupyterlab-widgets     1.0.0\n",
      "Keras                  2.3.1\n",
      "Keras-Applications     1.0.8\n",
      "Keras-Preprocessing    1.1.2\n",
      "Markdown               3.3.4\n",
      "MarkupSafe             1.1.1\n",
      "mistune                0.8.4\n",
      "mkl-fft                1.3.0\n",
      "mkl-random             1.1.1\n",
      "mkl-service            2.3.0\n",
      "multidict              5.1.0\n",
      "nbclient               0.5.3\n",
      "nbconvert              6.0.7\n",
      "nbformat               5.1.2\n",
      "nest-asyncio           1.5.1\n",
      "notebook               6.2.0\n",
      "numpy                  1.19.2\n",
      "oauthlib               3.1.0\n",
      "opt-einsum             3.1.0\n",
      "packaging              20.9\n",
      "pandocfilters          1.4.3\n",
      "parso                  0.8.1\n",
      "pickleshare            0.7.5\n",
      "pip                    21.0.1\n",
      "prometheus-client      0.9.0\n",
      "prompt-toolkit         3.0.16\n",
      "protobuf               3.14.0\n",
      "pyasn1                 0.4.8\n",
      "pyasn1-modules         0.2.8\n",
      "pycparser              2.20\n",
      "pydensecrf             1.0rc2\n",
      "Pygments               2.8.1\n",
      "PyJWT                  1.7.1\n",
      "pyOpenSSL              20.0.1\n",
      "pyparsing              2.4.7\n",
      "pyreadline             2.1\n",
      "pyrsistent             0.17.3\n",
      "PySocks                1.7.1\n",
      "python-dateutil        2.8.1\n",
      "pywin32                300\n",
      "pywinpty               0.5.7\n",
      "PyYAML                 5.4.1\n",
      "pyzmq                  22.0.3\n",
      "qtconsole              5.0.2\n",
      "QtPy                   1.9.0\n",
      "requests               2.25.1\n",
      "requests-oauthlib      1.3.0\n",
      "rsa                    4.7.2\n",
      "scipy                  1.5.2\n",
      "Send2Trash             1.5.0\n",
      "setuptools             52.0.0.post20210125\n",
      "six                    1.15.0\n",
      "tensorboard            2.4.0\n",
      "tensorboard-plugin-wit 1.6.0\n",
      "tensorflow             1.15.0\n",
      "tensorflow-estimator   1.15.1\n",
      "termcolor              1.1.0\n",
      "terminado              0.9.2\n",
      "testpath               0.4.4\n",
      "tornado                6.1\n",
      "traitlets              4.3.3\n",
      "typing-extensions      3.7.4.3\n",
      "urllib3                1.26.3\n",
      "wcwidth                0.2.5\n",
      "webencodings           0.5.1\n",
      "Werkzeug               0.16.1\n",
      "wheel                  0.36.2\n",
      "widgetsnbextension     3.5.1\n",
      "win-inet-pton          1.1.0\n",
      "wincertstore           0.2\n",
      "wrapt                  1.12.1\n",
      "yarl                   1.6.3\n",
      "zipp                   3.4.0\n",
      "Note: you may need to restart the kernel to use updated packages.\n"
     ]
    }
   ],
   "source": [
    "pip list"
   ]
  },
  {
   "cell_type": "code",
   "execution_count": null,
   "metadata": {},
   "outputs": [],
   "source": []
  }
 ],
 "metadata": {
  "kernelspec": {
   "display_name": "Python 3",
   "language": "python",
   "name": "python3"
  },
  "language_info": {
   "codemirror_mode": {
    "name": "ipython",
    "version": 3
   },
   "file_extension": ".py",
   "mimetype": "text/x-python",
   "name": "python",
   "nbconvert_exporter": "python",
   "pygments_lexer": "ipython3",
   "version": "3.6.9"
  }
 },
 "nbformat": 4,
 "nbformat_minor": 5
}
